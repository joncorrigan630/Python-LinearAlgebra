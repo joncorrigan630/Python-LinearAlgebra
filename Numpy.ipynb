{
 "cells": [
  {
   "cell_type": "code",
   "execution_count": 1,
   "metadata": {},
   "outputs": [],
   "source": [
    "import numpy as np"
   ]
  },
  {
   "cell_type": "markdown",
   "metadata": {},
   "source": [
    "## NumPy Arrays"
   ]
  },
  {
   "cell_type": "code",
   "execution_count": 2,
   "metadata": {},
   "outputs": [
    {
     "name": "stdout",
     "output_type": "stream",
     "text": [
      "[1 2 3 4 5 6]\n"
     ]
    }
   ],
   "source": [
    "# NumPy array representation of a vector:\n",
    "vector = v = np.array([1, 2, 3, 4, 5, 6])\n",
    "print(vector) "
   ]
  },
  {
   "cell_type": "code",
   "execution_count": 3,
   "metadata": {},
   "outputs": [
    {
     "name": "stdout",
     "output_type": "stream",
     "text": [
      "[[1 2]\n",
      " [3 4]]\n"
     ]
    }
   ],
   "source": [
    "# Create a matrix, which is the equivalent of a two-dimensional NumPy array\n",
    "matrix = np.array([[1,2],[3,4]])\n",
    "print(matrix) "
   ]
  },
  {
   "cell_type": "code",
   "execution_count": 4,
   "metadata": {},
   "outputs": [
    {
     "name": "stdout",
     "output_type": "stream",
     "text": [
      "[[-2  0  3]\n",
      " [-2  0  3]\n",
      " [-2  0  3]\n",
      " [-2  0  3]]\n"
     ]
    }
   ],
   "source": [
    "# Create a matrix by combining existing vectors using the np.column_stack() function:\n",
    "v1 = np.array([-2,-2,-2,-2])\n",
    "v2 = np.array([0,0,0,0])\n",
    "v3 = np.array([3,3,3,3])\n",
    " \n",
    "vector_stack = np.column_stack((v1, v2, v3))\n",
    "print(vector_stack) "
   ]
  },
  {
   "cell_type": "code",
   "execution_count": 5,
   "metadata": {},
   "outputs": [
    {
     "name": "stdout",
     "output_type": "stream",
     "text": [
      "(2, 2)\n"
     ]
    }
   ],
   "source": [
    "# Access the shape of a matrix or vector once it’s been created as a NumPy array, by calling the .shape attribute of the array variable:\n",
    "matrix_shape = np.array([[1,2],[3,4]])\n",
    "print(matrix_shape.shape)"
   ]
  },
  {
   "cell_type": "code",
   "execution_count": 6,
   "metadata": {},
   "outputs": [
    {
     "name": "stdout",
     "output_type": "stream",
     "text": [
      "2\n"
     ]
    }
   ],
   "source": [
    "# Access individual elements in a NumPy array by indexing all dimensions in a single square bracket, separating the dimension indices with commas:\n",
    "matrix = np.array([[1,2],[3,4]])\n",
    "print(matrix[0,1])"
   ]
  },
  {
   "cell_type": "code",
   "execution_count": 7,
   "metadata": {},
   "outputs": [
    {
     "name": "stdout",
     "output_type": "stream",
     "text": [
      "[2 4]\n"
     ]
    }
   ],
   "source": [
    "# Select a subset or entire dimension of a NumPy array using a colon:\n",
    "matrix = np.array([[1,2],[3,4]])\n",
    "print(matrix[:,1]) "
   ]
  }
 ],
 "metadata": {
  "interpreter": {
   "hash": "270e48d7d833aa9f6e241cd7baab00f55729dc9b87acb79557571c94ce8b6154"
  },
  "kernelspec": {
   "display_name": "Python 3.8.5 64-bit ('base': conda)",
   "name": "python3"
  },
  "language_info": {
   "codemirror_mode": {
    "name": "ipython",
    "version": 3
   },
   "file_extension": ".py",
   "mimetype": "text/x-python",
   "name": "python",
   "nbconvert_exporter": "python",
   "pygments_lexer": "ipython3",
   "version": "3.8.5"
  },
  "orig_nbformat": 4
 },
 "nbformat": 4,
 "nbformat_minor": 2
}
