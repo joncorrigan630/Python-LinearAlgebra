{
 "cells": [
  {
   "cell_type": "code",
   "execution_count": 1,
   "metadata": {},
   "outputs": [],
   "source": [
    "import numpy as np"
   ]
  },
  {
   "cell_type": "markdown",
   "metadata": {},
   "source": [
    "# Numpy Arrays for Algebra Operations"
   ]
  },
  {
   "cell_type": "code",
   "execution_count": 2,
   "metadata": {},
   "outputs": [
    {
     "data": {
      "text/plain": [
       "array([[ 4,  8],\n",
       "       [12, 16]])"
      ]
     },
     "execution_count": 2,
     "metadata": {},
     "output_type": "execute_result"
    }
   ],
   "source": [
    "# Multiply a vector or matrix by a scalar, using multiplication between the NumPy array and the scalar:\n",
    "matrix = np.array([[1,2],[3,4]])\n",
    "4 * matrix "
   ]
  },
  {
   "cell_type": "code",
   "execution_count": 3,
   "metadata": {},
   "outputs": [
    {
     "data": {
      "text/plain": [
       "array([[-3, -1],\n",
       "       [ 1,  3]])"
      ]
     },
     "execution_count": 3,
     "metadata": {},
     "output_type": "execute_result"
    }
   ],
   "source": [
    "# Adding equally sized vectors or matrices, using addition between the NumPy arrays:\n",
    "matrix_1 = np.array([[1,2],[3,4]])\n",
    "matrix_2 = np.array([[-4,-3],[-2,-1]])\n",
    "matrix_1 + matrix_2"
   ]
  },
  {
   "cell_type": "code",
   "execution_count": 4,
   "metadata": {},
   "outputs": [
    {
     "data": {
      "text/plain": [
       "-12"
      ]
     },
     "execution_count": 4,
     "metadata": {},
     "output_type": "execute_result"
    }
   ],
   "source": [
    "# Vector dot products can be computed using the np.dot() function:\n",
    "v1 = np.array([-1,-2,-3])\n",
    "v2 = np.array([2,2,2])\n",
    "np.dot(v1,v2) "
   ]
  },
  {
   "cell_type": "code",
   "execution_count": 5,
   "metadata": {},
   "outputs": [
    {
     "data": {
      "text/plain": [
       "array([[ -8,  -5],\n",
       "       [-20, -13]])"
      ]
     },
     "execution_count": 5,
     "metadata": {},
     "output_type": "execute_result"
    }
   ],
   "source": [
    "# Matrix multiplication is computed using either the np.matmul() function or using the @ symbol as shorthand:\n",
    "m1 = np.array([[1,2],[3,4]])\n",
    "m2 = np.array([[-4,-3],[-2,-1]])\n",
    " \n",
    "# one way to matrix multiply\n",
    "np.matmul(m1,m2)\n",
    "# another way to matrix multiply\n",
    "m1@m2"
   ]
  }
 ],
 "metadata": {
  "interpreter": {
   "hash": "270e48d7d833aa9f6e241cd7baab00f55729dc9b87acb79557571c94ce8b6154"
  },
  "kernelspec": {
   "display_name": "Python 3.8.5 64-bit ('base': conda)",
   "language": "python",
   "name": "python3"
  },
  "language_info": {
   "codemirror_mode": {
    "name": "ipython",
    "version": 3
   },
   "file_extension": ".py",
   "mimetype": "text/x-python",
   "name": "python",
   "nbconvert_exporter": "python",
   "pygments_lexer": "ipython3",
   "version": "3.8.5"
  },
  "orig_nbformat": 4
 },
 "nbformat": 4,
 "nbformat_minor": 2
}
